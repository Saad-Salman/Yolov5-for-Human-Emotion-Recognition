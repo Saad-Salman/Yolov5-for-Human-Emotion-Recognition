{
 "cells": [
  {
   "cell_type": "code",
   "execution_count": 57,
   "id": "7c14a153",
   "metadata": {},
   "outputs": [],
   "source": [
    "import os\n",
    "import shutil"
   ]
  },
  {
   "cell_type": "code",
   "execution_count": 58,
   "id": "c7dfe7dd",
   "metadata": {},
   "outputs": [],
   "source": [
    "arr = os.listdir('KDEF')"
   ]
  },
  {
   "cell_type": "code",
   "execution_count": 61,
   "id": "f10adf4a",
   "metadata": {},
   "outputs": [],
   "source": [
    "for i in arr:\n",
    "    a = os.listdir('KDEF/'+str(i))\n",
    "    for name in a:\n",
    "        if str(name).endswith('S.JPG'):\n",
    "            shutil.move('KDEF/{}/{}'.format(str(i),str(name)),'C:/Users/Saad/Desktop/Data/KDEF_and_AKDEF/Fronts')"
   ]
  },
  {
   "cell_type": "code",
   "execution_count": null,
   "id": "b663c1db",
   "metadata": {},
   "outputs": [],
   "source": []
  }
 ],
 "metadata": {
  "kernelspec": {
   "display_name": "Python 3 (ipykernel)",
   "language": "python",
   "name": "python3"
  },
  "language_info": {
   "codemirror_mode": {
    "name": "ipython",
    "version": 3
   },
   "file_extension": ".py",
   "mimetype": "text/x-python",
   "name": "python",
   "nbconvert_exporter": "python",
   "pygments_lexer": "ipython3",
   "version": "3.7.3"
  }
 },
 "nbformat": 4,
 "nbformat_minor": 5
}
